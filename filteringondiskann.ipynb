{
 "cells": [
  {
   "cell_type": "code",
   "execution_count": 1,
   "metadata": {},
   "outputs": [],
   "source": [
    "# import pandas as pd\n",
    "from datetime import datetime, timedelta\n",
    "from pymongo import MongoClient\n",
    "import json\n",
    "import os\n",
    "from dotenv import load_dotenv"
   ]
  },
  {
   "cell_type": "code",
   "execution_count": null,
   "metadata": {},
   "outputs": [],
   "source": [
    "mongo_client= MongoClient(os.getenv(\"MONGO_CONNECTION_STRING_DISKANN\"))\n",
    "db = mongo_client['filtering_on_diskann']\n",
    "\n",
    "# Create collection if it doesn't exist\n",
    "COLLECTION_NAME = \"filtering\"\n",
    "\n",
    "collection = db[COLLECTION_NAME]\n",
    "\n",
    "if COLLECTION_NAME not in db.list_collection_names():\n",
    "    db.create_collection(COLLECTION_NAME)\n",
    "    print(\"Created collection '{}'.\\n\".format(COLLECTION_NAME))\n",
    "else:\n",
    "    print(\"Using collection: '{}'.\\n\".format(COLLECTION_NAME))"
   ]
  },
  {
   "cell_type": "code",
   "execution_count": 15,
   "metadata": {},
   "outputs": [],
   "source": [
    "load_dotenv(\"variables.env\", override=True)\n",
    "\n",
    "AOAI_KEY = os.getenv(\"AOAI_KEY\")\n",
    "AOAI_ENDPOINT =  os.getenv(\"AOAI_ENDPOINT\")\n",
    "API_VERSION =  os.getenv(\"API_VERSION\")\n",
    "AOAI_EMBEDDING_DEPLOYMENT_MODEL = os.getenv(\"AOAI_EMBEDDING_DEPLOYMENT_MODEL\")"
   ]
  },
  {
   "cell_type": "code",
   "execution_count": 24,
   "metadata": {},
   "outputs": [],
   "source": [
    "from openai import AzureOpenAI\n",
    "client = AzureOpenAI(\n",
    "  azure_endpoint= AOAI_ENDPOINT,\n",
    "  api_key=AOAI_KEY,  \n",
    "  api_version=\"2023-05-15\"\n",
    ")"
   ]
  },
  {
   "cell_type": "code",
   "execution_count": 25,
   "metadata": {},
   "outputs": [],
   "source": [
    "def generate_embedding(text):\n",
    "    response = client.embeddings.create(\n",
    "        model=\"text-embedding-3-small\",\n",
    "        input=text\n",
    "    )\n",
    "    return response.data[0].embedding"
   ]
  },
  {
   "cell_type": "code",
   "execution_count": 216,
   "metadata": {},
   "outputs": [
    {
     "data": {
      "text/plain": [
       "{'raw': {'defaultShard': {'numIndexesBefore': 1,\n",
       "   'numIndexesAfter': 2,\n",
       "   'createdCollectionAutomatically': False,\n",
       "   'ok': 1}},\n",
       " 'ok': 1}"
      ]
     },
     "execution_count": 216,
     "metadata": {},
     "output_type": "execute_result"
    }
   ],
   "source": [
    "db.command({\n",
    "  'createIndexes': 'filtering',\n",
    "  'indexes': [\n",
    "    {\n",
    "      'name': 'filter',\n",
    "      'key': {\n",
    "        \"Embedding\": \"cosmosSearch\"\n",
    "      },\n",
    "      'cosmosSearchOptions': {\n",
    "        'kind': 'vector-diskann',\n",
    "        'similarity': 'COS',\n",
    "        'dimensions': 1536, \n",
    "        'maxDegree': 32,\n",
    "        'lBuild': 50\n",
    "      }, \n",
    "    }\n",
    "  ]\n",
    "})"
   ]
  },
  {
   "cell_type": "code",
   "execution_count": 208,
   "metadata": {},
   "outputs": [
    {
     "name": "stdout",
     "output_type": "stream",
     "text": [
      "{'_id_': {'v': 2, 'key': [('_id', 1)]}, 'filter': {'v': 2, 'key': [('Embedding', 'cosmosSearch')], 'cosmosSearchOptions': SON([('kind', 'vector-diskann'), ('numLists', 1), ('similarity', 'COS'), ('dimensions', 1536)])}}\n"
     ]
    }
   ],
   "source": [
    "print(collection.index_information())"
   ]
  },
  {
   "cell_type": "code",
   "execution_count": 217,
   "metadata": {},
   "outputs": [
    {
     "data": {
      "text/plain": [
       "InsertManyResult([ObjectId('679c2404084240d19a301a4e'), ObjectId('679c2404084240d19a301a4f'), ObjectId('679c2404084240d19a301a50'), ObjectId('679c2404084240d19a301a51'), ObjectId('679c2404084240d19a301a52'), ObjectId('679c2404084240d19a301a53'), ObjectId('679c2404084240d19a301a54'), ObjectId('679c2404084240d19a301a55'), ObjectId('679c2404084240d19a301a56'), ObjectId('679c2404084240d19a301a57'), ObjectId('679c2404084240d19a301a58'), ObjectId('679c2404084240d19a301a59'), ObjectId('679c2404084240d19a301a5a'), ObjectId('679c2404084240d19a301a5b'), ObjectId('679c2404084240d19a301a5c'), ObjectId('679c2404084240d19a301a5d'), ObjectId('679c2404084240d19a301a5e'), ObjectId('679c2404084240d19a301a5f'), ObjectId('679c2404084240d19a301a60'), ObjectId('679c2404084240d19a301a61'), ObjectId('679c2404084240d19a301a62'), ObjectId('679c2404084240d19a301a63'), ObjectId('679c2404084240d19a301a64'), ObjectId('679c2404084240d19a301a65'), ObjectId('679c2404084240d19a301a66'), ObjectId('679c2404084240d19a301a67'), ObjectId('679c2404084240d19a301a68'), ObjectId('679c2404084240d19a301a69'), ObjectId('679c2404084240d19a301a6a'), ObjectId('679c2404084240d19a301a6b'), ObjectId('679c2404084240d19a301a6c'), ObjectId('679c2404084240d19a301a6d'), ObjectId('679c2404084240d19a301a6e'), ObjectId('679c2404084240d19a301a6f'), ObjectId('679c2404084240d19a301a70'), ObjectId('679c2404084240d19a301a71'), ObjectId('679c2404084240d19a301a72'), ObjectId('679c2404084240d19a301a73'), ObjectId('679c2404084240d19a301a74'), ObjectId('679c2404084240d19a301a75'), ObjectId('679c2404084240d19a301a76'), ObjectId('679c2404084240d19a301a77'), ObjectId('679c2404084240d19a301a78'), ObjectId('679c2404084240d19a301a79'), ObjectId('679c2404084240d19a301a7a'), ObjectId('679c2404084240d19a301a7b'), ObjectId('679c2404084240d19a301a7c'), ObjectId('679c2404084240d19a301a7d'), ObjectId('679c2404084240d19a301a7e'), ObjectId('679c2404084240d19a301a7f'), ObjectId('679c2404084240d19a301a80'), ObjectId('679c2404084240d19a301a81'), ObjectId('679c2404084240d19a301a82'), ObjectId('679c2404084240d19a301a83'), ObjectId('679c2404084240d19a301a84'), ObjectId('679c2404084240d19a301a85'), ObjectId('679c2404084240d19a301a86')], acknowledged=True)"
      ]
     },
     "execution_count": 217,
     "metadata": {},
     "output_type": "execute_result"
    }
   ],
   "source": [
    "collection.delete_many({})\n",
    "with open(\"data_w_embedding.json\", 'r') as file:\n",
    "    data = json.load(file)\n",
    "\n",
    "collection.insert_many(data)"
   ]
  },
  {
   "cell_type": "code",
   "execution_count": 224,
   "metadata": {},
   "outputs": [
    {
     "data": {
      "text/plain": [
       "'name_1'"
      ]
     },
     "execution_count": 224,
     "metadata": {},
     "output_type": "execute_result"
    }
   ],
   "source": [
    "collection.create_index('name')\n"
   ]
  },
  {
   "cell_type": "code",
   "execution_count": 231,
   "metadata": {},
   "outputs": [
    {
     "data": {
      "text/plain": [
       "'is_open_1'"
      ]
     },
     "execution_count": 231,
     "metadata": {},
     "output_type": "execute_result"
    }
   ],
   "source": [
    "collection.create_index(\"is_open\")"
   ]
  },
  {
   "cell_type": "code",
   "execution_count": 256,
   "metadata": {},
   "outputs": [],
   "source": [
    "def vector_search(query_text, regex, num_results=5):\n",
    "    # Generate the embedding for the query text\n",
    "    query_embedding = generate_embedding(query_text)\n",
    "\n",
    "    pipeline = [\n",
    "    {\n",
    "        \"$search\": {\n",
    "            \"cosmosSearch\": {\n",
    "                \"path\": \"Embedding\",\n",
    "                \"vector\": query_embedding,  \n",
    "                \"k\": num_results,\n",
    "                \"filter\": {\n",
    "                    \"name\": {\"$regex\": regex, \"$options\": \"i\"}\n",
    "                }  \n",
    "            }\n",
    "        }\n",
    "     }\n",
    "]\n",
    "    # Execute the aggregation pipeline in Cosmos DB\n",
    "    results = list(collection.aggregate(pipeline))\n",
    "    for r in results:\n",
    "        print(f\"- **ID**: {r.get('ID', 'N/A')}\")\n",
    "        print(f\"- **Name**: {r.get('name', 'N/A')}\")\n",
    "        print(f\"- **Description**: {r.get('description', '(No description provided)')}\\n\")\n"
   ]
  },
  {
   "cell_type": "code",
   "execution_count": 257,
   "metadata": {},
   "outputs": [
    {
     "name": "stdout",
     "output_type": "stream",
     "text": [
      "- **ID**: 1041934\n",
      "- **Name**: Private apt in Berkeley, MTN Views!\n",
      "- **Description**: \n",
      "\n",
      "- **ID**: 756594\n",
      "- **Name**: Private lower level 2 bedroom suite\n",
      "- **Description**: NOT 420 (marijuana) friendly. Our private ground level suite has 2 bedrooms, 1 bathroom, access to a coffee bar (kitchenette) and a living room area. It is roomy, comfortable and clean.  We live upstairs and rent the finished basement.  Common areas include the back door, back yard and laundry room.  Our house is in an upscale neighborhood, convenient location close to public transportation and off-street parking. the ceilings are low, so extra tall people (over 6'1\") will be inconvenienced.\n",
      "\n",
      "- **ID**: 915016\n",
      "- **Name**: Cozy Capitol Hill Accommodation\n",
      "- **Description**: Private entrance into a cozy place with a  fully equipped kitchen and all the conveniences of home.  We have lived in this place for two months, so everything is there for your longer stay. Clean and comfy with private laundry and big closet. Good wifi and access to the outdoor space on the porch or when we are gone or at your request, our beautiful patio.\n",
      "\n",
      "- **ID**: 43909396\n",
      "- **Name**: Oasis w/ Rooftop Sauna, Cold Plunge + Private Yard\n",
      "- **Description**: Howdy, traveler! Welcome to our cozy and charming Airbnb nestled in the heart of Denver, where the air is crisp, the mountains are high, and the adventure is endless.<br /><br />Our Airbnb is the perfect place to rest your head after a long day of exploring.  And don't worry, we won't judge you if you choose to spend your evenings binge-watching Netflix instead of hiking up a mountain.\n",
      "\n",
      "- **ID**: 44036483\n",
      "- **Name**: Private room in townhouse close to Downtown Denver\n",
      "- **Description**: Modern room with plenty of street parking in a new town-home with a spacious roof deck with amazing city and front range views. It is located within walking distance to Downtown Denver a few blocks away from the Pepsi Center, Empower Field at Mile High (Broncos) Stadium, the Colorado Convention Center, and Sloan's Lake.  There is easy access to the I-25 corridor, I-70 & the Denver Coliseum. This is the perfect location to explore and enjoy Denver and it's convenient for all types of travelers.\n",
      "\n"
     ]
    }
   ],
   "source": [
    "regex=\"p[riv]+[aieuo]*t[e]*\"\n",
    "query = \"pvate garden\"\n",
    "vector_search(query, regex)"
   ]
  }
 ],
 "metadata": {
  "kernelspec": {
   "display_name": "Python 3",
   "language": "python",
   "name": "python3"
  },
  "language_info": {
   "codemirror_mode": {
    "name": "ipython",
    "version": 3
   },
   "file_extension": ".py",
   "mimetype": "text/x-python",
   "name": "python",
   "nbconvert_exporter": "python",
   "pygments_lexer": "ipython3",
   "version": "3.11.9"
  }
 },
 "nbformat": 4,
 "nbformat_minor": 2
}
